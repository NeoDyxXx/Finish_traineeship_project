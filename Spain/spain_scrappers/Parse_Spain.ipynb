{
 "cells": [
  {
   "cell_type": "code",
   "execution_count": 156,
   "id": "eac63383",
   "metadata": {},
   "outputs": [],
   "source": [
    "import requests\n",
    "from bs4 import BeautifulSoup\n",
    "import json"
   ]
  },
  {
   "cell_type": "code",
   "execution_count": 157,
   "id": "cc91ee90",
   "metadata": {},
   "outputs": [],
   "source": [
    "def main():\n",
    "    \n",
    "    all_centres = []\n",
    "    \n",
    "    url = 'https://blsspain-belarus.com/contact.php'\n",
    "    html = requests.get(url).text\n",
    "    soup = BeautifulSoup(html, 'lxml')\n",
    "    \n",
    "    centers = soup.find_all('table', class_ = 'table') \n",
    "        \n",
    "    for center in centers:\n",
    "        \n",
    "        info = {}\n",
    "        \n",
    "        country_and_type = center.find('th')\n",
    "        if country_and_type is None:\n",
    "            break\n",
    "        country_and_type = country_and_type.text.split(' ')\n",
    "    \n",
    "        info['Страна'] = country_and_type[0]\n",
    "        info['Тип'] = country_and_type[1] + ' ' + country_and_type[2]\n",
    "    \n",
    "        parts = center.find_all('div', class_ = 'marginBottom')\n",
    "    \n",
    "        for part in parts:\n",
    "            rows = part.find_all('div', class_ = 'row')\n",
    "            if (rows[0].text == \"Часы работы:\"):\n",
    "                info[rows[0].text[:-1:]]={ rows[1].text : rows[2].text,\n",
    "                                    rows[3].text : rows[4].text}\n",
    "            \n",
    "            elif (rows[0].text == \"Адрес\"):\n",
    "                address = rows[1].text.replace('\\n\\t', '').split(', ')\n",
    "                info['Город'] = address[0]\n",
    "                info['Адрес'] = address[2][:-1:]+', '+address[3]\n",
    "            \n",
    "            else:\n",
    "                info[rows[0].text]=rows[1].text\n",
    "                \n",
    "        all_centres.append(info)\n",
    "        \n",
    "    \n",
    "    with open(\"data_file.json\", \"w\") as file:\n",
    "        json.dump(all_centres, file, ensure_ascii=False)\n",
    "    with open(\"data_file.json\", \"r\") as file:\n",
    "        text = json.load(file) \n",
    "        print(text) "
   ]
  },
  {
   "cell_type": "code",
   "execution_count": 158,
   "id": "bc84e980",
   "metadata": {},
   "outputs": [
    {
     "name": "stdout",
     "output_type": "stream",
     "text": [
      "[{'Страна': 'Испания', 'Тип': 'Визовый центр', 'Город': 'Минск', 'Адрес': 'Ул. Кальварийская, 42 (Бизнес Центр Каскад Альфа)', 'Часы работы': {'Время выдачи паспортов': '12:00 до 16:00 часов (Понедельник – пятница)', 'Время приема': 'c 09:00 до 16:00 (Понедельник – пятница)'}, 'Тел': '+375 172504949', 'почта': 'info.mhp@blshelpline.com'}]\n"
     ]
    }
   ],
   "source": [
    "if __name__ == '__main__':\n",
    "    main()"
   ]
  },
  {
   "cell_type": "code",
   "execution_count": null,
   "id": "79cb5eb6",
   "metadata": {},
   "outputs": [],
   "source": []
  }
 ],
 "metadata": {
  "kernelspec": {
   "display_name": "Python 3",
   "language": "python",
   "name": "python3"
  },
  "language_info": {
   "codemirror_mode": {
    "name": "ipython",
    "version": 3
   },
   "file_extension": ".py",
   "mimetype": "text/x-python",
   "name": "python",
   "nbconvert_exporter": "python",
   "pygments_lexer": "ipython3",
   "version": "3.8.8"
  }
 },
 "nbformat": 4,
 "nbformat_minor": 5
}
